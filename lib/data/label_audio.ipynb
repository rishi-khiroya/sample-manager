{
 "cells": [
  {
   "cell_type": "code",
   "execution_count": 1,
   "id": "2e5af526",
   "metadata": {},
   "outputs": [],
   "source": [
    "import os\n",
    "import csv\n",
    "from dataclasses import dataclass\n",
    "from pathlib import Path\n",
    "from typing import List, Set\n",
    "\n",
    "import pandas as pd\n",
    "from tqdm.auto import tqdm\n",
    "import librosa\n",
    "from IPython.display import Audio, display\n",
    "import ipywidgets as widgets"
   ]
  },
  {
   "cell_type": "code",
   "execution_count": 2,
   "id": "35e4d94f",
   "metadata": {},
   "outputs": [],
   "source": [
    "@dataclass\n",
    "class AudioSampleMetadata:\n",
    "  duration: float\n",
    "  sample_rate: int\n",
    "  num_channels: int\n",
    "\n",
    "@dataclass\n",
    "class AudioSample():\n",
    "  path: str\n",
    "  label: str\n",
    "  metadata: AudioSampleMetadata\n",
    "\n",
    "  def toDict(self):\n",
    "    return {\n",
    "      'path': self.path,\n",
    "      'label': self.label,\n",
    "      'duration': f\"{self.metadata.duration:.4f}\",\n",
    "      'sample_rate': self.metadata.sample_rate,\n",
    "      'num_channels': self.metadata.num_channels\n",
    "    }\n",
    "  \n"
   ]
  },
  {
   "cell_type": "code",
   "execution_count": 3,
   "id": "23e2bb0a",
   "metadata": {},
   "outputs": [],
   "source": [
    "FIELD_NAMES = ['path', 'label', 'duration', 'sample_rate', 'num_channels']\n",
    "AUDIO_EXTENSIONS = {'.wav', '.mp3', '.flac', '.ogg'} \n",
    "SAMPLES_DIR = Path('/mnt/z/Music/Samples')\n",
    "OUTPUT_DIR = Path('/mnt/c/Users/rishi/wsl/sample-manager/lib/data')"
   ]
  },
  {
   "cell_type": "code",
   "execution_count": 4,
   "id": "f3f5e204",
   "metadata": {},
   "outputs": [],
   "source": [
    "def find_audio_files(root_path: Path) -> List[Path]:\n",
    "    return sorted([\n",
    "        p for p in root_path.rglob(\"*\")\n",
    "        if p.suffix.lower() in AUDIO_EXTENSIONS and p.is_file()\n",
    "    ])"
   ]
  },
  {
   "cell_type": "code",
   "execution_count": 5,
   "id": "6d2f1f36",
   "metadata": {},
   "outputs": [],
   "source": [
    "def load_labeled_paths(csv_path: Path) -> Set[str]:\n",
    "    if not csv_path.exists():\n",
    "        print(f\"File {csv_path} does not exist\")\n",
    "        return set()\n",
    "    df = pd.read_csv(csv_path)\n",
    "    return set(df[\"path\"].dropna().astype(str))"
   ]
  },
  {
   "cell_type": "code",
   "execution_count": 6,
   "id": "fae94bcf",
   "metadata": {},
   "outputs": [],
   "source": [
    "def save_chunk_to_csv(entries: List[dict], csv_path: Path, is_first_chunk: bool):\n",
    "    df = pd.DataFrame(entries)\n",
    "    df.to_csv(\n",
    "        csv_path,\n",
    "        mode='w' if is_first_chunk else 'a',\n",
    "        header=is_first_chunk,\n",
    "        index=False,\n",
    "        quoting=csv.QUOTE_NONNUMERIC\n",
    "    )"
   ]
  },
  {
   "cell_type": "code",
   "execution_count": 7,
   "id": "04ba1a0e",
   "metadata": {},
   "outputs": [],
   "source": [
    "def extract_metadata(file_path: str) -> AudioSampleMetadata:\n",
    "    \"\"\"\n",
    "    Extracts audio metadata (duration and sample rate) using Librosa.\n",
    "    \"\"\"\n",
    "    try:\n",
    "        y, sr = librosa.load(file_path, sr=None, mono=False)\n",
    "        duration = librosa.get_duration(y=y, sr=sr)\n",
    "        return AudioSampleMetadata(duration=duration, sample_rate=sr, num_channels=y.shape[0])\n",
    "    except Exception as e:\n",
    "        print(f\"Error extracting metadata from {file_path}: {e}\")\n",
    "        return None"
   ]
  },
  {
   "cell_type": "code",
   "execution_count": 8,
   "id": "65a81e92",
   "metadata": {},
   "outputs": [],
   "source": [
    "def subtract_path(path: str, root: str) -> str:\n",
    "    try:\n",
    "        return str(Path(path).relative_to(Path(root)))\n",
    "    except ValueError:\n",
    "        return str(Path(path))"
   ]
  },
  {
   "cell_type": "code",
   "execution_count": 9,
   "id": "d3ba5ac4",
   "metadata": {},
   "outputs": [],
   "source": [
    "def label_audio_file(file_path: str, root_folder: str) -> AudioSample:\n",
    "    \"\"\"\n",
    "    Extracts audio metadata and labels the audio file.\n",
    "    \"\"\"\n",
    "    metadata = extract_metadata(file_path)\n",
    "    display(Audio(file_path))\n",
    "\n",
    "    path = subtract_path(file_path, root_folder)\n",
    "    \n",
    "    # Manual inputs for labeling\n",
    "    label = input(f\"{path}\").strip().lower()\n",
    "    # ... add further data here\n",
    "\n",
    "    return AudioSample(path=file_path, label=label, metadata=metadata)"
   ]
  },
  {
   "cell_type": "code",
   "execution_count": 24,
   "id": "3371c8bd",
   "metadata": {},
   "outputs": [],
   "source": [
    "def label_audio_files(root_path: Path, output_path: Path, chunk_size: int = 500):\n",
    "    print(f\"Scanning for audio files in: {root_path}\")\n",
    "    all_files = find_audio_files(root_path)\n",
    "    labeled_paths = load_labeled_paths(output_path)\n",
    "    \n",
    "    # Filter out already labeled files\n",
    "    files_to_label = [\n",
    "        p for p in all_files\n",
    "        if str(p) not in labeled_paths\n",
    "    ]\n",
    "\n",
    "    print(f\"Found {len(all_files)} total files.\")\n",
    "    print(f\"Resuming with {len(files_to_label)} files left to label.\\n\")\n",
    "\n",
    "    chunk: List[dict] = []\n",
    "    entries_written = len(labeled_paths)\n",
    "    is_first_chunk = entries_written == 0\n",
    "\n",
    "    if len(files_to_label) > 0:\n",
    "        paths = tqdm(files_to_label, desc=\"Labeling samples\")\n",
    "\n",
    "        audio_display = widgets.Output()\n",
    "        display(audio_display) \n",
    "\n",
    "        for file_path in paths:\n",
    "            try:\n",
    "                with audio_display:\n",
    "                    audio_display.clear_output(wait=True)\n",
    "                    sample = label_audio_file(file_path, root_path) \n",
    "                chunk.append(sample.toDict())\n",
    "            except Exception as e:\n",
    "                print(f\"⚠️ Skipped {file_path.name} due to error: {e}\")\n",
    "                continue\n",
    "\n",
    "            if len(chunk) >= chunk_size:\n",
    "                save_chunk_to_csv(chunk, output_path, is_first_chunk)\n",
    "                is_first_chunk = False\n",
    "                chunk.clear()\n",
    "\n",
    "        # Write any remaining entries\n",
    "        if chunk:\n",
    "            save_chunk_to_csv(chunk, output_path, is_first_chunk)\n",
    "\n",
    "    print(f\"✅ Done. Labels saved to: {output_path}\")"
   ]
  },
  {
   "cell_type": "code",
   "execution_count": 13,
   "id": "a951405d",
   "metadata": {},
   "outputs": [],
   "source": [
    "arsenal_path = \"/mnt/z/Music/Samples/Mo Falk/Jonth & Mo Falk - The Arsenal\"\n",
    "drums_path = f\"{arsenal_path}/Drums\"\n",
    "snares_path = f\"{drums_path}/Snares\"\n",
    "perc_loops_path = f\"{drums_path}/Perc Loops\"\n",
    "\n",
    "test_snare = f\"{snares_path}/RSNL Snare - 001.wav\"\n",
    "test_perc_loop = f\"{perc_loops_path}/RSNL Perc Loop - 001.wav\""
   ]
  },
  {
   "cell_type": "code",
   "execution_count": 25,
   "id": "af26dcf5",
   "metadata": {},
   "outputs": [
    {
     "name": "stdout",
     "output_type": "stream",
     "text": [
      "Scanning for audio files in: /mnt/z/Music/Samples/Mo Falk/Sample Flips\n",
      "Found 10 total files.\n",
      "Resuming with 0 files left to label.\n",
      "\n",
      "✅ Done. Labels saved to: /mnt/c/Users/rishi/wsl/sample-manager/lib/data/mo_falk.csv\n"
     ]
    }
   ],
   "source": [
    "sample_flips_path = Path(\"/mnt/z/Music/Samples/Mo Falk/Sample Flips\")\n",
    "\n",
    "label_audio_files(sample_flips_path, OUTPUT_DIR.joinpath(\"mo_falk.csv\"), chunk_size=100)"
   ]
  }
 ],
 "metadata": {
  "kernelspec": {
   "display_name": "Python 3 (ipykernel)",
   "language": "python",
   "name": "python3"
  },
  "language_info": {
   "codemirror_mode": {
    "name": "ipython",
    "version": 3
   },
   "file_extension": ".py",
   "mimetype": "text/x-python",
   "name": "python",
   "nbconvert_exporter": "python",
   "pygments_lexer": "ipython3",
   "version": "3.10.12"
  }
 },
 "nbformat": 4,
 "nbformat_minor": 5
}
